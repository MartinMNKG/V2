{
 "cells": [
  {
   "cell_type": "code",
   "execution_count": 1,
   "metadata": {},
   "outputs": [],
   "source": [
    "\n",
    "import deap as dp\n",
    "from Tools import * \n",
    "import random\n"
   ]
  },
  {
   "cell_type": "code",
   "execution_count": 2,
   "metadata": {},
   "outputs": [
    {
     "name": "stderr",
     "output_type": "stream",
     "text": [
      "/tmp/ipykernel_1014878/517391569.py:1: UserWarning: NasaPoly2::validate: \n",
      "For species OHV, discontinuity in h/RT detected at Tmid = 1000\n",
      "\tValue computed using low-temperature polynomial:  53.62056162666667\n",
      "\tValue computed using high-temperature polynomial: 53.5841554314\n",
      "\n",
      "  Detailed_gas = ct.Solution(\"detailed.yaml\")\n"
     ]
    }
   ],
   "source": [
    "Detailed_gas = ct.Solution(\"detailed.yaml\")\n",
    "Reduced_gas = ct.Solution(\"reduced.yaml\")\n",
    "pressure = np.linspace(1,1,1).tolist()\n",
    "temperature = np.linspace(1500,2000,2).tolist()\n",
    "phi = np.linspace(0.7,1.5,2).tolist()\n",
    "mixture = [0.85]\n",
    "Targets = [\"H2\", \"NH3\", \"O2\", \"OH\",\"NO\",\"NH\",\"NH2\",\"NNH\"]\n",
    "Non_Target = ['N2', 'H', 'O', 'H2O', 'HO2', 'N', 'N2H3', 'N2H2', 'HNO', 'NO2', 'N2O']\n",
    "\n",
    "param = [\"shift\",\"interpol\",\"scaler\"]\n",
    "\n",
    "fuel1 = \"NH3\"\n",
    "fuel2 =\"H2\"\n",
    "oxidizer = 'O2:0.21, N2:0.79' \n",
    "tmax = 0.2\n",
    "dt= 1e-6"
   ]
  },
  {
   "cell_type": "code",
   "execution_count": 3,
   "metadata": {},
   "outputs": [
    {
     "name": "stdout",
     "output_type": "stream",
     "text": [
      "[(101325.0, 1500.0, 0.7, 0.85), (101325.0, 1500.0, 1.5, 0.85), (101325.0, 2000.0, 0.7, 0.85), (101325.0, 2000.0, 1.5, 0.85)]\n"
     ]
    }
   ],
   "source": [
    "# Get info from det and red \n",
    "idx_target_det = spcs_name_idx(Detailed_gas,Targets)\n",
    "idx_target_red = spcs_name_idx(Reduced_gas,Targets)\n",
    "\n",
    "idx_non_target_det = spcs_name_idx(Detailed_gas,Non_Target)\n",
    "idx_non_target_red = spcs_name_idx(Reduced_gas,Non_Target)\n",
    "\n",
    "\n",
    "# Calcul Data Origin from Detailed \n",
    "case = generate_test_cases_bifuel(temperature,pressure,phi,mixture)\n",
    "print(case)"
   ]
  },
  {
   "cell_type": "code",
   "execution_count": 4,
   "metadata": {},
   "outputs": [],
   "source": [
    "Time_det , Temp_det, Y_Target_det,Y_Non_Target_det = Sim0D_launch(Detailed_gas,fuel1,fuel2,oxidizer,case,idx_target_det,idx_non_target_det,dt,tmax)\n",
    "\n",
    "N_Time_det , N_Temp_det, N_Y_Target_det,N_Y_Non_Target_det, N_Scaler_Target_det,N_Scaler_Non_Target_det,N_AI_delay_det= Change_detailed(Time_det,Temp_det,Y_Target_det,Y_Non_Target_det,case,Targets,Non_Target,param)\n"
   ]
  },
  {
   "cell_type": "code",
   "execution_count": 5,
   "metadata": {},
   "outputs": [],
   "source": [
    "# No transform \n",
    "Time_red , Temp_red, Y_Target_red,Y_Non_Target_red = Sim0D_launch(Reduced_gas,fuel1,fuel2,oxidizer,case,idx_target_red,idx_non_target_red,dt,tmax) \n",
    "\n",
    "#transform (Shift, Interp, Scal)\n",
    "N_Time_red , N_Temp_red, N_Y_Target_red,N_Y_Non_Target_red,N_AI_delay_red =Change_Reduced(Time_red,Temp_red,Y_Target_red,Y_Non_Target_red,case,Targets,Non_Target,N_Time_det,N_Scaler_Target_det,N_Scaler_Non_Target_det,param)\n"
   ]
  },
  {
   "cell_type": "markdown",
   "metadata": {},
   "source": [
    "OptiSMOKE++\n"
   ]
  },
  {
   "cell_type": "code",
   "execution_count": 6,
   "metadata": {},
   "outputs": [],
   "source": [
    "def fit_OptimSmoke(Y_exp, Y_sim,case):\n",
    "    fit =[]\n",
    "    fac = []\n",
    "    for c in range(len(case)) :\n",
    "        fit.append(np.sum(np.sum((np.array(Y_exp[c]) -np.array(Y_sim[c]))**2,axis = 1)))\n",
    "        fac.append(np.shape(Y_exp[c])[1])\n",
    "    return np.sum(np.array(fit)/np.array(fac))\n"
   ]
  },
  {
   "cell_type": "code",
   "execution_count": 7,
   "metadata": {},
   "outputs": [
    {
     "name": "stdout",
     "output_type": "stream",
     "text": [
      "11.681394856386255\n"
     ]
    }
   ],
   "source": [
    "err = fit_OptimSmoke(N_Y_Target_det,N_Y_Target_red,case)\n",
    "print(err)"
   ]
  },
  {
   "cell_type": "markdown",
   "metadata": {},
   "source": [
    "PYOPTMECH"
   ]
  },
  {
   "cell_type": "code",
   "execution_count": 48,
   "metadata": {},
   "outputs": [],
   "source": [
    "def fit_pyoptmec_test(Y_t_red,Y_t_det,time_det,Y_nt_red,Y_nt_det,temp_red,temp_det,ai_det,ai_red,case) : \n",
    "    F1_m =[]\n",
    "    F2_m =[]\n",
    "    F3_m =[] \n",
    "    F4_m = []\n",
    "    for c in range(len(case)) : \n",
    "        # Equation F1_m\n",
    "        F1_m.append( np.sum([\n",
    "            (np.trapezoid(np.abs(np.array(Y_t_red[c]) - np.array(Y_t_det[c])), np.array(time_det[c])) / np.trapezoid(np.abs(np.array(Y_t_det[c])), np.array(time_det[c])))**2\n",
    "        ]))\n",
    "\n",
    "        # Equation F2_m\n",
    "        F2_m.append( np.sum([\n",
    "            ((np.max(Y_nt_red[c],axis=1)[j] - np.max(Y_nt_det[c],axis=1)[j]) / np.max(Y_nt_det[c],axis=1)[j])**2 for j in range(len(np.max(Y_nt_det[c],axis=1)))\n",
    "        ]))\n",
    "\n",
    "        # Equation F3_m\n",
    "        F3_m .append( (np.trapezoid(np.abs(np.array(temp_red[c]) - np.array(temp_det[c])), np.array(temp_det[c])) / np.trapezoid(np.abs(np.array(temp_det[c])), np.array(temp_det[c])))**2)\n",
    "\n",
    "        # Equation F4_m\n",
    "        F4_m.append(((ai_red[c] - ai_det[c]) / ai_det[c])**2)\n",
    "        \n",
    "    weight = [1,1,1,1]\n",
    "    print(F1_m)\n",
    "    print(F2_m)\n",
    "    print(F3_m)\n",
    "    print(F4_m)\n",
    "    _err = (\n",
    "                weight[0] * F1_m\n",
    "                + weight[1] * F2_m\n",
    "                + weight[2] * F3_m\n",
    "                + weight[3] * F4_m\n",
    "            )\n",
    "\n",
    "    err = np.linalg.norm(_err)\n",
    "    return err"
   ]
  },
  {
   "cell_type": "code",
   "execution_count": 49,
   "metadata": {},
   "outputs": [
    {
     "name": "stdout",
     "output_type": "stream",
     "text": [
      "[np.float64(0.04956139296523768)]\n",
      "[np.float64(1.5723722643258684)]\n",
      "[np.float64(0.0004083997861453475)]\n",
      "[0.003002439482079185]\n",
      "1.5731560795824242\n"
     ]
    }
   ],
   "source": [
    "err = fit_pyoptmec_test(N_Y_Target_red,N_Y_Target_det,N_Time_det,N_Y_Non_Target_red,N_Y_Non_Target_det,N_Temp_red,N_Temp_det,N_AI_delay_det,N_AI_delay_red,case) \n",
    "print(err)\n"
   ]
  },
  {
   "cell_type": "code",
   "execution_count": null,
   "metadata": {},
   "outputs": [],
   "source": []
  }
 ],
 "metadata": {
  "kernelspec": {
   "display_name": "myenvmpi",
   "language": "python",
   "name": "python3"
  },
  "language_info": {
   "codemirror_mode": {
    "name": "ipython",
    "version": 3
   },
   "file_extension": ".py",
   "mimetype": "text/x-python",
   "name": "python",
   "nbconvert_exporter": "python",
   "pygments_lexer": "ipython3",
   "version": "3.9.5"
  }
 },
 "nbformat": 4,
 "nbformat_minor": 2
}
